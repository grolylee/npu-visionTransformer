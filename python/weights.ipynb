{
 "cells": [
  {
   "cell_type": "code",
   "execution_count": 1,
   "metadata": {},
   "outputs": [],
   "source": [
    "import torch\n",
    "input_matrix = torch.randn(128, 768)  # Batch size 128, hidden size 768\n",
    "weight_matrix = torch.randn(768, 768)  # Ma trận trọng số\n",
    "output_matrix = input_matrix @ weight_matrix  # Kết quả kỳ vọng\n",
    "\n",
    "input_matrix.numpy().tofile(\"input_matrix.bin\")\n",
    "weight_matrix.numpy().tofile(\"weight_matrix.bin\")\n",
    "output_matrix.numpy().tofile(\"expected_output.bin\")\n"
   ]
  }
 ],
 "metadata": {
  "kernelspec": {
   "display_name": "venv",
   "language": "python",
   "name": "python3"
  },
  "language_info": {
   "codemirror_mode": {
    "name": "ipython",
    "version": 3
   },
   "file_extension": ".py",
   "mimetype": "text/x-python",
   "name": "python",
   "nbconvert_exporter": "python",
   "pygments_lexer": "ipython3",
   "version": "3.13.2"
  }
 },
 "nbformat": 4,
 "nbformat_minor": 2
}
