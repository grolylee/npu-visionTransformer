{
 "cells": [
  {
   "cell_type": "code",
   "execution_count": 1,
   "metadata": {},
   "outputs": [
    {
     "name": "stdout",
     "output_type": "stream",
     "text": [
      "Input X:\n",
      " tensor([[[ 2.5332,  1.4746,  0.2156, -0.7995,  0.3618, -0.0289,  2.3315,\n",
      "          -1.0273],\n",
      "         [ 0.2759, -1.0833, -0.6440,  1.4793,  1.5543,  1.0468, -1.0747,\n",
      "          -0.5896],\n",
      "         [-0.1337, -0.6911,  1.2067, -0.1629,  0.9028,  1.4611,  0.2346,\n",
      "           1.0455],\n",
      "         [ 0.5068,  0.5613,  1.2702,  1.5420, -0.0239,  0.3207,  0.7812,\n",
      "           0.4886]]])\n",
      "Output O:\n",
      " tensor([[[ 5.0583,  4.2198,  0.0427,  1.0598,  2.3957,  3.2729, -3.2363,\n",
      "          -3.6075],\n",
      "         [ 3.4573,  2.7388,  0.1742,  0.4614,  1.4425,  2.0240, -1.9500,\n",
      "          -2.4402],\n",
      "         [ 4.9930,  4.1262,  0.0449,  1.0298,  2.3621,  3.1847, -3.2461,\n",
      "          -3.5546],\n",
      "         [ 0.1933, -2.7778,  0.1795, -1.1162, -0.1549, -3.2131, -3.8746,\n",
      "           0.5470]]])\n"
     ]
    }
   ],
   "source": [
    "import torch\n",
    "import torch.nn.functional as F\n",
    "\n",
    "# Cấu hình kích thước tensor\n",
    "batch_size = 1\n",
    "seq_len = 4   # Số token\n",
    "embed_dim = 8 # Kích thước embedding\n",
    "num_heads = 2 # Số head\n",
    "\n",
    "# Khởi tạo dữ liệu đầu vào và trọng số cố định\n",
    "X = torch.randn(batch_size, seq_len, embed_dim)\n",
    "W_Q = torch.randn(embed_dim, embed_dim)\n",
    "W_K = torch.randn(embed_dim, embed_dim)\n",
    "W_V = torch.randn(embed_dim, embed_dim)\n",
    "\n",
    "# Tính toán Q, K, V\n",
    "Q = torch.matmul(X, W_Q)\n",
    "K = torch.matmul(X, W_K)\n",
    "V = torch.matmul(X, W_V)\n",
    "\n",
    "# Attention Scores (QK^T / sqrt(d_k))\n",
    "d_k = embed_dim // num_heads\n",
    "attn_scores = torch.matmul(Q, K.transpose(-2, -1)) / (d_k ** 0.5)\n",
    "\n",
    "# Softmax và tính output O = AV\n",
    "attn_probs = F.softmax(attn_scores, dim=-1)\n",
    "O = torch.matmul(attn_probs, V)\n",
    "\n",
    "# Xuất dữ liệu đầu vào và đầu ra\n",
    "print(\"Input X:\\n\", X)\n",
    "print(\"Output O:\\n\", O)\n",
    "\n",
    "# Lưu dữ liệu vào file để test Verilog\n",
    "torch.save({'X': X, 'W_Q': W_Q, 'W_K': W_K, 'W_V': W_V, 'O': O}, \"mhsa_test_data.pt\")\n"
   ]
  },
  {
   "cell_type": "code",
   "execution_count": 9,
   "metadata": {},
   "outputs": [],
   "source": [
    "import torch\n",
    "\n",
    "# Load dữ liệu đã lưu từ PyTorch\n",
    "data = torch.load(\"mhsa_test_data.pt\")\n",
    "\n",
    "# Cấu hình Fixed-Point (Q8.8)\n",
    "FIXED_POINT_SCALE = 2**8  # 256\n",
    "FIXED_POINT_BITS = 16\n",
    "MAX_VAL = (1 << (FIXED_POINT_BITS - 1)) - 1  # 32767\n",
    "MIN_VAL = -(1 << (FIXED_POINT_BITS - 1))     # -32768\n",
    "\n",
    "def to_fixed(val):\n",
    "    \"\"\"Chuyển số thực sang fixed-point Q8.8 (16-bit signed bù hai).\"\"\"\n",
    "    fixed_val = int(round(val * FIXED_POINT_SCALE))\n",
    "    fixed_val = max(min(fixed_val, MAX_VAL), MIN_VAL)\n",
    "    return f\"{fixed_val & 0xFFFF:04x}\"\n",
    "\n",
    "def save_as_hex(tensor, filename):\n",
    "    \"\"\"Lưu tensor thành file .hex để Verilog đọc.\"\"\"\n",
    "    with open(filename, \"w\") as f:\n",
    "        for row in tensor.reshape(-1, tensor.shape[-1]):  # Đảm bảo đúng format\n",
    "            for val in row:\n",
    "                f.write(to_fixed(val.item()) + \"\\n\")\n",
    "\n",
    "# Lưu các ma trận đầu vào và trọng số\n",
    "save_as_hex(data[\"X\"], \"matrix_X.hex\")\n",
    "save_as_hex(data[\"W_Q\"], \"matrix_WQ.hex\")\n",
    "save_as_hex(data[\"W_K\"], \"matrix_WK.hex\")\n",
    "save_as_hex(data[\"W_V\"], \"matrix_WV.hex\")\n",
    "save_as_hex(data[\"O\"], \"matrix_O.hex\")  # Kết quả mong muốn để kiểm tra\n",
    "\n"
   ]
  },
  {
   "cell_type": "code",
   "execution_count": null,
   "metadata": {},
   "outputs": [
    {
     "name": "stdout",
     "output_type": "stream",
     "text": [
      "First 10 lines of matrix_A.hex:\n",
      "\n",
      "\n",
      "\n",
      "\n",
      "\n",
      "\n",
      "\n",
      "\n",
      "\n",
      "\n"
     ]
    }
   ],
   "source": []
  }
 ],
 "metadata": {
  "kernelspec": {
   "display_name": "venv",
   "language": "python",
   "name": "python3"
  },
  "language_info": {
   "codemirror_mode": {
    "name": "ipython",
    "version": 3
   },
   "file_extension": ".py",
   "mimetype": "text/x-python",
   "name": "python",
   "nbconvert_exporter": "python",
   "pygments_lexer": "ipython3",
   "version": "3.13.2"
  }
 },
 "nbformat": 4,
 "nbformat_minor": 2
}
